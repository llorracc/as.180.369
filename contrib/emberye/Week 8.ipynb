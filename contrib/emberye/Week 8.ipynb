{
 "cells": [
  {
   "cell_type": "markdown",
   "id": "f132b5ec-afcf-4256-86d7-aba953935781",
   "metadata": {},
   "source": [
    "# Week 8: Explore Data"
   ]
  },
  {
   "cell_type": "markdown",
   "id": "a7621252-3576-4005-a633-1d0c938ebbd3",
   "metadata": {},
   "source": [
    "As I explore the dataset and start looking for existing research this week, I decided to follow some methods outlined in the paper 'Vocational training costs and economic benefits: Exploring the interactions' by Samoliuk, Natalia; Bilan, Yuriy; and Mishchuk, Halyna. The paper examines the economic benefits of vocational training costs (VTC) by focusing on several key questions. What is the impact of vocational training costs (VTC) on macroeconomic results? How do features of personnel training programs differ between profitable and unprofitable enterprises?\n",
    "What are the specifics of training and the efficiency of vocational training funds from the perspective of entrepreneurs and employees? To answer these questions, the study utilizes statistical data from Eurostat, specifically looking at indicators like vocational training costs per employee and GDP per capita from 2016. Additionally, surveys targeting entrepreneurs and employees provide further insights into the dynamics and effectiveness of vocational training costs. Methodologically, the research employs the Fechner correlation coefficient for relational estimation, facilitating the assessment of deviations from mean values and analyzing the homogeneity of impacts across different countries. Traditional statistical analysis combined with sociological research methods and graph-analytical approaches are also applied to process the data, ultimately aiming to elucidate the relationship between vocational training costs and economic performance alongside the effectiveness of training strategies within various enterprises."
   ]
  },
  {
   "cell_type": "markdown",
   "id": "5a1cdb57-9bdd-42b7-a56c-dcd2947aa056",
   "metadata": {},
   "source": [
    "The study by Samoliuk, Natalia; Bilan, Yuriy; and Mishchuk, Halyna focuses on data collected in 2016, providing a useful benchmark for understanding vocational training patterns across countries. I aim to expand on this by leveraging additional data from 2015 and 2020 to explore the role of training in economic resilience during the COVID-19 shock. Specifically, I am interested in whether countries with higher levels of vocational training prior to 2020 experienced smaller declines in GDP per capita when the pandemic hit. By comparing pre-2020 training intensity with the percentage drop in GDP in 2020, this approach tests the idea that investment in training may act as a buffer against sudden economic shocks, providing insight into the protective role of human capital."
   ]
  },
  {
   "cell_type": "markdown",
   "id": "89ba3b92-c08b-40c8-a5b0-589a5f3eb863",
   "metadata": {},
   "source": [
    "For the initial draft regression, I’ll focus on this subset of the dataset—freq = A, size_emp = 10-49, cost type = DIR, and unit = PPS_EU27_2020 across multiple countries. This smaller, more uniform slice makes it easier to test the regression approach, spot missing data or outliers, and model a simpler relationship, such as how cost varies across countries. Once the draft is working, I can expand to the full dataset, including other cost types, units, and size classes, improving cleaning, handling anomalies, and refining the regression. This stepwise approach makes the first regression exploratory, emphasizing feasibility and speed, with later iterations showing more robust results."
   ]
  },
  {
   "cell_type": "code",
   "execution_count": 4,
   "id": "51dd1c3e-6e9d-4cfe-895b-e64d9bb3a362",
   "metadata": {},
   "outputs": [
    {
     "name": "stdout",
     "output_type": "stream",
     "text": [
      "/home/idies/workspace/Storage/emberye/persistent/as.180.369/contrib/emberye\n"
     ]
    }
   ],
   "source": [
    "import os\n",
    "print(os.getcwd())"
   ]
  },
  {
   "cell_type": "code",
   "execution_count": 12,
   "id": "fb668afb-12a6-4700-80b6-fe24b0d69b28",
   "metadata": {},
   "outputs": [
    {
     "name": "stdout",
     "output_type": "stream",
     "text": [
      "  CVT_cost country GDP_2015\n",
      "0     272       AT   36860 \n",
      "1      78       BE    6560 \n",
      "2      96       BG   75460 \n",
      "3   126 bd      CH   20810 \n",
      "4     176       CY   16230 \n",
      "5     153       CZ   37950 \n",
      "6     132       DE   47900 \n"
     ]
    }
   ],
   "source": [
    "import pandas as pd\n",
    "\n",
    "# Step 1: Load CVT training cost data\n",
    "cvt_data = pd.read_csv('estat_trng_cvt_17s.tsv', sep='\\t')\n",
    "\n",
    "# Select rows 67-73 (Python 0-indexed: 66:73) and column D (index 3)\n",
    "cvt_subset = cvt_data.iloc[66:73, 3].to_frame(name='CVT_cost')\n",
    "\n",
    "# Step 2: Load GDP data\n",
    "gdp_data = pd.read_csv('estat_tec00001.tsv', sep='\\t')\n",
    "\n",
    "# Select rows 3-9 (Python 0-indexed: 2:9) and column D (index 3)\n",
    "gdp_subset = gdp_data.iloc[2:9, 3].to_frame(name='GDP_2015')\n",
    "\n",
    "# Step 3: Add country codes manually\n",
    "countries = ['AT','BE','BG','CH','CY','CZ','DE']\n",
    "cvt_subset['country'] = countries\n",
    "gdp_subset['country'] = countries\n",
    "\n",
    "# Step 4: Merge datasets on country\n",
    "df = pd.merge(cvt_subset, gdp_subset, on='country')\n",
    "\n",
    "# Step 5: Inspect the resulting DataFrame\n",
    "print(df)"
   ]
  },
  {
   "cell_type": "code",
   "execution_count": 14,
   "id": "aa17e376-5db0-4c46-90ed-2e780750b101",
   "metadata": {},
   "outputs": [
    {
     "name": "stderr",
     "output_type": "stream",
     "text": [
      "/home/idies/mambaforge/envs/econark/lib/python3.11/site-packages/statsmodels/stats/stattools.py:74: ValueWarning: omni_normtest is not valid with less than 8 observations; 7 samples were given.\n",
      "  warn(\"omni_normtest is not valid with less than 8 observations; %i \"\n"
     ]
    },
    {
     "name": "stdout",
     "output_type": "stream",
     "text": [
      "                            OLS Regression Results                            \n",
      "==============================================================================\n",
      "Dep. Variable:               GDP_2015   R-squared:                       0.001\n",
      "Model:                            OLS   Adj. R-squared:                 -0.199\n",
      "Method:                 Least Squares   F-statistic:                  0.005362\n",
      "Date:                Mon, 27 Oct 2025   Prob (F-statistic):              0.944\n",
      "Time:                        13:47:27   Log-Likelihood:                -79.695\n",
      "No. Observations:                   7   AIC:                             163.4\n",
      "Df Residuals:                       5   BIC:                             163.3\n",
      "Df Model:                           1                                         \n",
      "Covariance Type:            nonrobust                                         \n",
      "==============================================================================\n",
      "                 coef    std err          t      P>|t|      [0.025      0.975]\n",
      "------------------------------------------------------------------------------\n",
      "const       3.628e+04   2.56e+04      1.418      0.215   -2.95e+04    1.02e+05\n",
      "CVT_cost     -11.7783    160.855     -0.073      0.944    -425.269     401.713\n",
      "==============================================================================\n",
      "Omnibus:                          nan   Durbin-Watson:                   2.949\n",
      "Prob(Omnibus):                    nan   Jarque-Bera (JB):                0.415\n",
      "Skew:                           0.525   Prob(JB):                        0.813\n",
      "Kurtosis:                       2.435   Cond. No.                         427.\n",
      "==============================================================================\n",
      "\n",
      "Notes:\n",
      "[1] Standard Errors assume that the covariance matrix of the errors is correctly specified.\n"
     ]
    },
    {
     "data": {
      "image/png": "[encoded data removed]",
      "text/plain": [
       "<Figure size 640x480 with 1 Axes>"
      ]
     },
     "metadata": {},
     "output_type": "display_data"
    }
   ],
   "source": [
    "import pandas as pd\n",
    "import statsmodels.api as sm\n",
    "import matplotlib.pyplot as plt\n",
    "\n",
    "# Your existing DataFrame\n",
    "data = {\n",
    "    'CVT_cost': [272, 78, 96, 126, 176, 153, 132],\n",
    "    'country': ['AT', 'BE', 'BG', 'CH', 'CY', 'CZ', 'DE'],\n",
    "    'GDP_2015': [36860, 6560, 75460, 20810, 16230, 37950, 47900]\n",
    "}\n",
    "\n",
    "df = pd.DataFrame(data)\n",
    "\n",
    "# Clean CVT_cost if there are non-numeric entries\n",
    "df['CVT_cost'] = pd.to_numeric(df['CVT_cost'], errors='coerce')\n",
    "df = df.dropna()\n",
    "\n",
    "# Regression\n",
    "X = sm.add_constant(df['CVT_cost'])  # add intercept\n",
    "y = df['GDP_2015']\n",
    "\n",
    "model = sm.OLS(y, X).fit()\n",
    "print(model.summary())\n",
    "\n",
    "# Plot\n",
    "plt.scatter(df['CVT_cost'], df['GDP_2015'], color='blue')\n",
    "plt.plot(df['CVT_cost'], model.predict(X), color='red')\n",
    "plt.xlabel('CVT Cost')\n",
    "plt.ylabel('GDP 2015')\n",
    "plt.title('Regression: GDP vs CVT Cost (2015)')\n",
    "plt.show()"
   ]
  },
  {
   "cell_type": "markdown",
   "id": "40640688-e160-4d7c-92ca-6231989aa0e8",
   "metadata": {},
   "source": [
    "The negative correlation is not what I am expecting, but this is also due to the limiatation of the number of countries i have included here. I will work on refining the data in the following week."
   ]
  },
  {
   "cell_type": "code",
   "execution_count": null,
   "id": "932cf015-555f-4cfc-95da-9ea134f8a0c1",
   "metadata": {},
   "outputs": [],
   "source": []
  }
 ],
 "metadata": {
  "kernelspec": {
   "display_name": "econark",
   "language": "python",
   "name": "econark"
  },
  "language_info": {
   "codemirror_mode": {
    "name": "ipython",
    "version": 3
   },
   "file_extension": ".py",
   "mimetype": "text/x-python",
   "name": "python",
   "nbconvert_exporter": "python",
   "pygments_lexer": "ipython3",
   "version": "3.11.10"
  }
 },
 "nbformat": 4,
 "nbformat_minor": 5
}
