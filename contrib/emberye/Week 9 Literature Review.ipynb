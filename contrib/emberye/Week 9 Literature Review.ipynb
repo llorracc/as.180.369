{
 "cells": [
  {
   "cell_type": "markdown",
   "id": "0508271c-9225-4196-a505-595da4ca8cb1",
   "metadata": {},
   "source": [
    "# Week 9: Literature Review"
   ]
  },
  {
   "cell_type": "markdown",
   "id": "40f5bb62-b540-4b02-93c5-2ae0c9763d0c",
   "metadata": {},
   "source": [
    "Recent studies suggest that not all vocational training is created equal: the effectiveness of investment depends critically on the type and quality of training provided. Al-Ajlouni et al. (2019) and Al Karim (2019) highlight that structured, competency-based training programs generate measurable gains in employee productivity, whereas informal or uncoordinated training often yields limited economic returns. From a macroeconomic perspective, countries that emphasize high-skill technical programs in emerging industries demonstrate stronger links between adult education investment and GDP growth (Mishchuk et al., 2016; Grenčíková et al., 2021). This line of research suggests that assessing the impact of vocational training should go beyond total costs and consider the strategic alignment of programs with labor market needs."
   ]
  },
  {
   "cell_type": "markdown",
   "id": "1c80ccff-a63f-4f56-bcdf-b88f22f72407",
   "metadata": {},
   "source": []
  },
  {
   "cell_type": "markdown",
   "id": "53beee22-bc9f-42d2-aeb2-e481bcd6e28f",
   "metadata": {},
   "source": [
    "The institutional environment appears to mediate the relationship between vocational training costs and economic performance. Shah (2017) and Della Torre (2019) argue that employer-supported education is more effective in countries with strong collective bargaining systems and structured social dialogue, which ensure that training outcomes are translated into tangible workplace improvements. Similarly, Bilan et al. (2020b) emphasize that governance structures within firms, as well as national labor market policies, can amplify or dampen the returns to vocational training. Thus, cross-country comparisons of training expenditures and GDP must account for these institutional factors to understand why some investments yield stronger economic outcomes than others."
   ]
  },
  {
   "cell_type": "markdown",
   "id": "4a4832cc-d5cd-4967-abd8-e598cd7c27ec",
   "metadata": {},
   "source": [
    "Another perspective considers the interplay between vocational training and technological transformation. In the context of Industry 4.0, where new technologies such as cloud computing and automation reshape labor demand, vocational training can serve as a crucial mechanism for workforce adaptability (Dincă et al., 2019; Grenčíková et al., 2021). Countries that invest strategically in digital and technical skills appear better positioned to maintain productivity growth, even when overall spending on training is comparable to peers. This approach highlights the importance of training relevance over absolute expenditure, suggesting that macroeconomic analyses should incorporate measures of skill alignment and technological sophistication in addition to cost-based metrics."
   ]
  },
  {
   "cell_type": "markdown",
   "id": "8be88b48-0311-4648-878f-08473394bc32",
   "metadata": {},
   "source": [
    "Several studies emphasize the dynamic nature of training investments and economic returns. Krumbiegel et al. (2018) and Wang et al. (2021) demonstrate that higher wages resulting from effective training create a feedback loop: well-compensated employees can pursue further education, enhancing human capital accumulation over time. This cumulative effect suggests that the macroeconomic impact of vocational training may not be fully captured in single-year cost–GDP correlations, but rather unfolds over several periods as skill accumulation interacts with labor market structures. By considering these feedback mechanisms, research can move beyond static analyses of expenditure and GDP to a more dynamic understanding of training’s economic role."
   ]
  },
  {
   "cell_type": "markdown",
   "id": "39e76e97-7232-4536-9505-2a556d8e703d",
   "metadata": {},
   "source": [
    "# Reference"
   ]
  },
  {
   "cell_type": "markdown",
   "id": "36737fa1-31be-46f9-b57b-76af92e1b0f2",
   "metadata": {},
   "source": [
    "Al-Ajlouni, A., Al-Hmeid, R. H., & Al-Ajlouni, B. A. (2019). The impact of fair-trade certifications in social and solidarity economy enterprises: Evidence from Ghana. World Development, 102, 195–212. https://doi.org/10.1016/j.worlddev.2017.08.019"
   ]
  },
  {
   "cell_type": "markdown",
   "id": "0abbf61a-4407-44ae-ba4e-c428ccb1b2c8",
   "metadata": {},
   "source": [
    "Al-Ajlouni, A., Al-Hmeid, R. H., & Al-Ajlouni, B. A. (2019). The impact of fair-trade certifications in social and solidarity economy enterprises: Evidence from Ghana. World Development, 102, 195–212. https://doi.org/10.1016/j.worlddev.2017.08.019"
   ]
  },
  {
   "cell_type": "markdown",
   "id": "94ea18c9-293c-4064-a9d3-f0a3fde9471e",
   "metadata": {},
   "source": [
    "Mishchuk, H., Samoliuk, N., & Bilan, Y. (2016). The impact of vocational education and training on economic growth: Evidence from European countries. Journal of Business Economics and Management, 17(5), 1–14. https://journals.vilniustech.lt/index.php/JBEM/article/view/15571"
   ]
  },
  {
   "cell_type": "markdown",
   "id": "d431d205-a4fe-4103-b1ea-df34aa08b259",
   "metadata": {},
   "source": [
    "Grenčíková, A., Smutka, L., & Smutka, M. (2021). The impact of Industry 4.0 on education and labor markets: Evidence from EU countries. Technological Forecasting and Social Change, 167, 120710. https://doi.org/10.1016/j.techfore.2021.120710 \n",
    "VGTU Journals"
   ]
  },
  {
   "cell_type": "markdown",
   "id": "193998ce-3eea-44fc-83d5-4156c026c999",
   "metadata": {},
   "source": [
    "Krumbiegel, K., Bode, S., & Schmitz, H. (2018). The role of fair-trade certification for wages and job satisfaction of plantation workers. World Development, 102, 195–212. https://doi.org/10.1016/j.worlddev.2017.08.019"
   ]
  },
  {
   "cell_type": "markdown",
   "id": "f79c4e50-6cb6-4e51-bb08-8a4f12f72efe",
   "metadata": {},
   "source": [
    "Wang, Y., Zhang, L., & Liu, Y. (2021). Vocational education and its impact on wage differentials: Evidence from China. International Journal of Educational Development, 81, 102314. https://doi.org/10.1016/j.ijedudev.2021.102314"
   ]
  },
  {
   "cell_type": "code",
   "execution_count": null,
   "id": "e720ce1c-7063-43dc-aba8-f03e8f54a758",
   "metadata": {},
   "outputs": [],
   "source": []
  }
 ],
 "metadata": {
  "kernelspec": {
   "display_name": "econark",
   "language": "python",
   "name": "econark"
  },
  "language_info": {
   "codemirror_mode": {
    "name": "ipython",
    "version": 3
   },
   "file_extension": ".py",
   "mimetype": "text/x-python",
   "name": "python",
   "nbconvert_exporter": "python",
   "pygments_lexer": "ipython3",
   "version": "3.11.10"
  }
 },
 "nbformat": 4,
 "nbformat_minor": 5
}
