{
 "cells": [
  {
   "cell_type": "markdown",
   "id": "edb42983-f383-45da-a6ed-08286e68b1b0",
   "metadata": {},
   "source": [
    "# Introduction\n",
    "\n",
    "In this paper, I will analyze the effects of environmental regulations on the price of housing in the United States. I will begin by reviewing the existing literature on this topic before describing my own research methods and findings. \n",
    "\n",
    "According to my review of the literature, there is a rather limited amount of academic research on the effects of environmental regulations on the housing market. A 2004 review of the literature by economist Katherine Kiel describes studies that consider the effects of environmental laws on both the quantity and price of housing. Several studies have demonstrated how environmental regulations, by improving environmental quality, have driven up demand, and therefore prices, for housing in some cases. Fewer scholars have focused on the supply side as opposed to the demand side of the housing market when it comes to the effects of environmental regulations. One study by Benton and Pollack (1992) looked at the economic effects of land-use environmental protection policies. The authors focused their study on the effects of Maryland's Critical Area Law and found that the law had a positive overall effect on the market, as vacant land values held steady and residential housing values rose. This study shows how environmental policy can be crafted to balance environmental protection with developmental needs.\n",
    "\n",
    "For my research, I will be focusing on the effects of the California Environmental Quality Act, or CEQA. In 2018, the California Association of Environmental Professionals (AEP), \"a statewide resource representing environmental professionals,\" commissioned a study on this law to measure its effects on the housing crisis in the state and explore avenues for possible reform. In the introduction, the authors note that, \"To date, no comprehensive data about CEQA review methods including use of exemptions and streamlining options has been published.\" This indicates that there is in fact a lack of empirical research on the issue. The study involved a survey of all cities and counties in the state and, though only garnering a 9% response rate, disproportionately received responses from high-population jurisdictions with significant housing development. Overall, the study found that \"Streamlining/Exemptions was the predominant type of environmental review used\n",
    "for housing projects in respondent jurisdictions (42% of projects), followed by\n",
    "Mitigated Negative Declarations (36% of projects). Only 6% of projects were reviewed\n",
    "by EIRs [Environmental Impact Reports].\" This finding indicates that burdensome CEQA reviews, in the form of EIRs, were not that prevalent. Therefore, the authors' findings shed doubt on the claim that CEQA EIRs are a major force in blocking needed housing construction. However, they also found that affordable housing projects faced a hard time securing exemptions and were more likely to be subjected to EIRs, indicating that CEQA comes down disproportionately hard on affordable housing projects. Furthermore, the authors conclude, \"The perceived causal relationship between CEQA review and frequent project withdrawals may be significantly overstated.\" Overal, this study, while helpful, should be taken with a grain of salt due to its commission by an environmental group with an interest in protecting CEQA. \n",
    "\n",
    "# Abstract\n",
    "In this paper, I will first present my research method before diving into the results and their implications for future environmental policies. I will focus my study on California's landmark environmental protection law, the California Environmental Quality Act or CEQA. This law, which was recently largely repealed, and other similar laws around the country have been blamed for blocking the construction of affordable housing and contributing to the rise in housing prices in recent decades. I will analyze these claims by looking at specific instances in which CEQA was invoked and then analyzing the effects on housing prices in the following years. This methodology follows from the fact that CEQA has frequently been used by different groups, such as businesses or home owner associations, to block the construction of housing. There is data provided by FRED on housing prices in California over time (the All-Transactions House Price Index for California, which goes back to 1975) and also census-tract level data in the state provided by California Open Data (the Housing Cost Burden dataset). This second data set shows \"the percent of households paying more than 30% (or 50%) of monthly household income towards housing costs for California, its regions, counties, cities/towns, and census tracts.\" I plan on using this data to analyze whether housing cost burdens rise or fall after the usage of CEQA in a particular area. \n"
   ]
  },
  {
   "cell_type": "code",
   "execution_count": null,
   "id": "b490b19e-cd9e-4a4c-861d-e8b32ad420a5",
   "metadata": {},
   "outputs": [],
   "source": []
  }
 ],
 "metadata": {
  "kernelspec": {
   "display_name": "econark",
   "language": "python",
   "name": "econark"
  },
  "language_info": {
   "codemirror_mode": {
    "name": "ipython",
    "version": 3
   },
   "file_extension": ".py",
   "mimetype": "text/x-python",
   "name": "python",
   "nbconvert_exporter": "python",
   "pygments_lexer": "ipython3",
   "version": "3.11.10"
  }
 },
 "nbformat": 4,
 "nbformat_minor": 5
}
