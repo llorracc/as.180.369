{
 "cells": [
  {
   "cell_type": "markdown",
   "id": "1ed2d5fa-b21a-4995-a601-9bb9c919c52d",
   "metadata": {},
   "source": [
    "# Korinek Reflection \n",
    "\n",
    "## Draft 1\n",
    "\n",
    "I found the Korinek paper on AI applications for economics helpful in its description of how AI can be used for a variety of tasks as well as in how it described the potential drawbacks. Korinek describes how LLMs can be used for brainstorming and paper feedback, for example. In my research so far, I have primarily used it for brainstorming potential sources of data as well as potential research models. However, I did not use it for the initial, elementary types of brainstorming that Korinek describes, such as ideation, i.e. generating research ideas for a paper. I am skeptical of this use-case because, as Korinek describes, such use of AI brainstorming can lead to homogeneity in research questions and a lack of innovation. I am also skeptical of the applications to writing that Korinek describes. One use-case he encourages involves using AI to \"synthesize text,\" by inputting bullet points and then asking AI to synthesize them into a coherent, fully written text. To me, this seems lazy and unnecessary and risks the AI changing your ideas in subtle, yet important, ways. Perhaps this use-case would be most helpful for those who do not have a strong mastery of the language they are writing in. When AI does fill in content gaps in your writing, it often does so in with rather trite or banal, or even worse, inaccurate, statements. \n",
    "\n",
    "The use-case I am most enthusiastic about when it comes to AI applications to economics is help with coding. ChatGPT shows strong proficiency in helping with basic coding tasks, and does a good job of clearly explaining how to code properly, which is especially helpful for me as someone with little coding knowledge. As Korinek writes, \"LLMs can also act as powerful tutors that help users to find the packages and functions that they need for specific use cases.\" This for me has been the most useful application of AI, along with its ability to identify errors in code and explain these errors in plain language. \n",
    "\n",
    "# Draft 2 (With ChatGPT improvements)\n",
    "\n",
    "## First, my interactions with ChatGPT\n",
    "\n",
    "I said this to Chat: \"Provide feedback on my reflection on Anton Korinek's paper, 'Generative AI for Economic Research: Use Cases and Implications for Economists,' which I have attached. I am primarily addressing how I might use his suggested applications of AI in my own economics research paper on the impact of environmental legislation on housing prices and affordable housing supply. Feel free to provide feedback on how I might incorporate his identified use-cases of AI into my own research design and paper.\"\n",
    "\n",
    "When it provided general feedback on the paper and possible applications, I realized I had forgotten to upload my reflection! So in the next chat I wrote, \"Oops, I forgot to attach my reflection,\" and then attached it so that it could provide specific advice. \n",
    "\n",
    "After it provided advice, Chat asked me if I wanted it to revise my reflection and I wrote, \"Yes, please incorporate your advice into a new reflection that is between 300-400 words and briefly touches upon how I might incorporate his ideas into my own research. However, keep my critiques of the application of AI to the brainstorming and writing elements of the research process.\" This last request was due to the fact that I disagreed with the AI's suggestions on these topics and didn't want it to revise my reflection in a way I didn't agree with or didn't represent my beliefs.\n",
    "\n",
    "It then generated the following Draft 2.\n",
    "\n",
    "## Draft 2\n",
    "\n",
    "Korinek’s paper offers a comprehensive overview of how large language models (LLMs) can support economic research across ideation, writing, background research, coding, data analysis, and mathematical derivations. I found this structured framework particularly useful for assessing which applications meaningfully improve both research productivity and credibility in my own work analyzing how environmental regulation, such as CEQA, affects housing prices and affordable housing supply.\n",
    "\n",
    "I am most persuaded by Korinek’s argument that LLMs can automate “micro-tasks” that are too small or time-consuming to outsource to human research assistants, especially in coding and data analysis. As someone still developing technical skills, AI assistance has already helped identify coding errors, discover relevant statistical functions, and efficiently translate conceptual questions into working code. Going forward, I expect this to remain my primary use of LLMs—particularly as I work with parcel-level housing transaction data, construct diff-in-diff specifications triggered by regulatory changes, and clean policy text scraped from government sources.\n",
    "\n",
    "At the same time, I remain skeptical of using AI for the earliest phases of ideation. Korinek himself warns that relying on the same models to generate research questions may homogenize the field and narrow innovation. My project originated from substantive interest in environmental policy and housing markets—an insight not derived from a prompt—and I believe identifying meaningful questions remains a distinctly human comparative advantage.\n",
    "\n",
    "Similarly, although LLMs can assist with writing by synthesizing bullet points into prose, I am cautious about delegating conceptual synthesis. Subtle shifts in phrasing can alter theoretical claims or empirical interpretation, and AI-generated text often leans toward generic, imprecise, or formulaic language. That said, I see value in using LLMs to summarize long institutional background documents (e.g., CEQA amendments, permitting guidelines), which can free time for analysis rather than introduce substantive risk.\n",
    "\n",
    "Overall, Korinek’s framework has helped me think more deliberately about integrating AI into my workflow. Used judiciously—with human interpretation and verification at each stage—LLMs can expand the empirical scope of my project, improve robustness by facilitating alternative model explorations, and accelerate the technical components of research while preserving originality and analytical rigor where it matters most.\n",
    "\n",
    "# Draft 3 (With ChatGPT improvements)\n",
    "\n",
    "## Interactions with ChatGPT.\n",
    "\n",
    "I then gave ChatGPT the following prompt: \"Now revise this again, but frame the applications to my own research as possibilities, not certainties. After all, I am not sure that my research will take the exact form you describe (e.g., I'm not sure I will  'construct diff-in-diff specifications triggered by regulatory changes').\"\n",
    "\n",
    "It generated the following revised draft.\n",
    "\n",
    "## Draft 3\n",
    "\n",
    "Korinek’s paper offers a practical framework for thinking about how large language models (LLMs) can support the research process across six domains: ideation, writing, background research, data analysis, coding, and mathematical derivations. I found this especially useful for evaluating which components of my own project—examining how environmental regulations may influence housing prices and affordable housing supply—could benefit from AI assistance.\n",
    "\n",
    "The use-case that currently feels most promising for me is coding support. As Korinek emphasizes, LLMs can act as “powerful tutors,” helping researchers locate the appropriate packages and functions and explaining errors in accessible language. Given that I am early in my technical training, I expect that continued use of AI for debugging, code drafting, and data discovery may enable me to work more efficiently with housing transaction data or geographic information, should my design require it. Additionally, if I incorporate complex econometric strategies later—such as event studies or spatial comparisons—AI could assist in setting up initial code that I then refine and validate.\n",
    "\n",
    "I am more hesitant to adopt Korinek’s suggestions related to ideation and writing. While generative brainstorming may accelerate the process of forming research hypotheses, Korinek himself acknowledges the risk of homogeneity when many researchers rely on the same tool to generate ideas. My own research motivation emerged from prior coursework and substantive interest in environmental policy—an origin I value and would prefer to preserve in future inquiries. Similarly, although LLMs can automate the translation of bullet points into prose, I worry that delegating conceptual synthesis may subtly distort meaning or introduce generic interpretations—particularly in theoretical framing or discussion of empirical results. Still, for low-stakes writing tasks, such as summarizing regulatory background documents or organizing notes, AI assistance may be useful and low-risk.\n",
    "\n",
    "Engaging with Korinek’s framework has helped me think more deliberately about where AI assistance can enhance rigor rather than replace critical judgment. As my project develops, I plan to continue experimenting with LLMs for well-defined technical tasks while maintaining human oversight and originality for the core intellectual contributions. Used in this calibrated way, AI may expand what is possible without compromising the integrity of the research process.\n",
    "\n"
   ]
  },
  {
   "cell_type": "code",
   "execution_count": null,
   "id": "ffe7b0f4-228d-4fb0-81d1-3517da3c31b3",
   "metadata": {},
   "outputs": [],
   "source": []
  },
  {
   "cell_type": "code",
   "execution_count": null,
   "id": "409cef6f-e406-46a1-873c-7525ecd9240c",
   "metadata": {},
   "outputs": [],
   "source": []
  }
 ],
 "metadata": {
  "kernelspec": {
   "display_name": "econark",
   "language": "python",
   "name": "econark"
  },
  "language_info": {
   "codemirror_mode": {
    "name": "ipython",
    "version": 3
   },
   "file_extension": ".py",
   "mimetype": "text/x-python",
   "name": "python",
   "nbconvert_exporter": "python",
   "pygments_lexer": "ipython3",
   "version": "3.11.10"
  }
 },
 "nbformat": 4,
 "nbformat_minor": 5
}
