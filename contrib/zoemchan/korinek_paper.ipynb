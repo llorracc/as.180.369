{
 "cells": [
  {
   "cell_type": "markdown",
   "id": "8d2f9176-13a2-4fdf-aacf-444f55bfb148",
   "metadata": {},
   "source": [
    "In his paper Korinek discussed the various ways that AI can be used to write economics papers. He first defined six ways that AI should be used when writing: ideation, writing, research, analysis, coding, and mathematical derivation"
   ]
  }
 ],
 "metadata": {
  "kernelspec": {
   "display_name": "econark",
   "language": "python",
   "name": "econark"
  },
  "language_info": {
   "codemirror_mode": {
    "name": "ipython",
    "version": 3
   },
   "file_extension": ".py",
   "mimetype": "text/x-python",
   "name": "python",
   "nbconvert_exporter": "python",
   "pygments_lexer": "ipython3",
   "version": "3.11.10"
  }
 },
 "nbformat": 4,
 "nbformat_minor": 5
}
