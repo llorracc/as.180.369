{
 "cells": [
  {
   "cell_type": "markdown",
   "id": "8d2f9176-13a2-4fdf-aacf-444f55bfb148",
   "metadata": {},
   "source": [
    "In his paper, Korinek discussed the various ways that AI can be used to write economics papers. He first defined six ways that AI should be used when writing: ideation, writing, research, analysis, coding, and mathematical derivations. He then talks about the various forms of AI that are more widely used and discusses how they can be used. He explains that as language models grow larger and are trained on more data, new abilities, such as translation, coding, and reasoning, emerge suddenly, showing how improvements in scale lead to new applications for researchers. \n",
    "\n",
    "Korinek discusses ChatGPT, which is the most powerful publicly available LLM. For economists, he says it can be used for automating \"micro-tasks\", for writing and editing research material, and explaining concepts interactively. He emphasizes that generative AI is especially useful for small, repetitive tasks that are too minor to delegate to human research assistants but collectively consume significant time. When using LLMs like ChatGPT, he discusses the concepts of prompt engineering and iterative interaction. Prompt engineering is the process of crafting effective prompts (instructions) to guide the LLM’s responses. Korinek recommends providing clear context, specifying the desired tone or role—for example, “I am an economist writing a research paper; respond in an academic tone”—and refining prompts based on the model’s output. Iterative interaction is the need to provide feedback to AI and supply it with supplemental information to generate the best results. He likens this process to working with a new intern: intelligent and eager but inexperienced, meaning that patience and back-and-forth refinement are key to producing the best responses.\n",
    "\n",
    "He then goes on to discuss plugins and extensions which can constantly interact with you as you are on the computer. Korinek highlights examples such as ChatGPT’s Advanced Data Analysis (ADA) tool, which can execute Python code, analyze data files, and create visualizations, and the Wolfram Alpha plugin, which allows exact mathematical computation. Other systems like Claude 2 can read entire research papers with their large memory capacity, while web-connected tools like Bing Chat or Google Bard can search the internet in real time to provide up-to-date sources. These extensions significantly broaden what AI can do for economic research, especially in coding, data analysis, and mathematical problem solving.\n",
    "\n",
    "Korinek then goes into the comparative advantage and limitations of AI. AI systems excel at generating content, but humans retain the advantage in evaluating and organizing content. Thus, productivity is maximized when AI generates drafts, hypotheses, or analyses and humans critically review, interpret, and decide which outputs are meaningful. While AI can be a very useful tool, it also has a lot of limitations like producing false or invented information, coded in biases and stereotypes, inconsistency, and reasoning gaps. there are also many privacy concerns with AI storing our data and ethical complications with its use. Korinek cautions that it is both easy and dangerous to overestimate AI, because it can sound authoritative even when wrong, and to underestimate it, since its capabilities are advancing rapidly with each new generation. Overall, Korinek believes that even though LLMs sometimes err, their instantaneous responses and low transaction costs make them valuable for tasks too small to delegate to human assistants."
   ]
  },
  {
   "cell_type": "markdown",
   "id": "f1e748dd-2e83-4ce2-8d47-3bc654d1a81e",
   "metadata": {},
   "source": [
    "# AI Assistance"
   ]
  },
  {
   "cell_type": "markdown",
   "id": "6696f47d-e7a5-46bc-a587-2cc062e3a42f",
   "metadata": {},
   "source": [
    "## 1"
   ]
  },
  {
   "cell_type": "markdown",
   "id": "99f15421-3dae-4b91-807a-e3b33a0cfa2a",
   "metadata": {},
   "source": [
    "Prompt: I will attach what I have at the moment for my summary. are there any critical points or details in my summary that are missing. please provide a list of things that are missing if any are and also give suggestions for where to add these details into my current summary.\n",
    "\n",
    "Response: \n",
    "# Missing or Underdeveloped Points in the Summary of Korinek (2023)\n",
    "\n",
    "Your summary captures the main structure and arguments of Korinek’s paper — it includes the six domains, ChatGPT, prompt engineering, iterative interaction, comparative advantage, and limitations.  \n",
    "However, a few critical details and nuances are missing that would strengthen it.\n",
    "\n",
    "---\n",
    "\n",
    "## 📝 Missing or Underdeveloped Points\n",
    "\n",
    "### 1. Specifics of the Plugins and Extensions\n",
    "- **What’s missing:**  \n",
    "  - ChatGPT’s **Advanced Data Analysis (ADA)** plugin – runs code, handles data uploads, performs regressions, and visualizes results.  \n",
    "  - **Wolfram Alpha** plugin – adds mathematical computation.  \n",
    "  - **Claude 2** – can analyze full papers with its large 100k-token memory.  \n",
    "  - **Bing/Bard** – web-connected models for real-time information.  \n",
    "- **Where to add:**  \n",
    "  After your sentence *“He then goes on to discuss plugins and extensions…”*  \n",
    "  → Add 1–2 sentences summarizing these examples and what they do for economists.\n",
    "\n",
    "---\n",
    "\n",
    "### 2. Comparative Advantage as an Economic Concept\n",
    "- **What’s missing:**  \n",
    "  The explicit link to **Ricardo’s theory of comparative advantage**, which Korinek uses to frame human–AI collaboration.  \n",
    "- **Where to add:**  \n",
    "  In the paragraph on comparative advantage, before or after “AI systems excel at generating content…”  \n",
    "  → Add: “Korinek frames this using Ricardo’s theory of comparative advantage, suggesting that humans and AI each specialize in the tasks where they are relatively most effective.”\n",
    "\n",
    "---\n",
    "\n",
    "### 3. Importance of “Micro-Tasks”\n",
    "- **What’s missing:**  \n",
    "  Clarification that AI is most efficient for *small, repetitive cognitive tasks* that are too trivial for human assistants but collectively time-consuming.  \n",
    "- **Where to add:**  \n",
    "  After “automating ‘micro-tasks’…”  \n",
    "  → Add: “He emphasizes that generative AI is most helpful for small, repetitive tasks that are too minor to delegate to human research assistants but collectively consume significant time.”\n",
    "\n",
    "---\n",
    "\n",
    "### 4. Warnings About Over- and Underestimating AI\n",
    "- **What’s missing:**  \n",
    "  Korinek warns it’s both *easy and dangerous* to overestimate (trusting it too much) and underestimate (dismissing its rapid progress) AI.  \n",
    "- **Where to add:**  \n",
    "  After your limitations paragraph.  \n",
    "  → Add: “Korinek cautions against both overestimating AI—treating its authoritative tone as truth—and underestimating it, since its abilities are advancing rapidly.”\n",
    "\n",
    "---\n",
    "\n",
    "### 5. Prompt Context and Role Framing\n",
    "- **What’s missing:**  \n",
    "  Korinek advises giving **context** and **style** instructions when prompting (e.g., “I am an economist writing a paper; respond in an academic tone”).  \n",
    "- **Where to add:**  \n",
    "  After your definition of prompt engineering.  \n",
    "  → Add: “He recommends providing clear context, specifying tone or role, and iterating based on the model’s responses.”\n",
    "\n",
    "---\n",
    "\n",
    "### 6. Scaling and Emergent Capabilities\n",
    "- **What’s missing:**  \n",
    "  The idea that as models scale in size and training data, **new abilities emerge** (e.g., coding, translation, reasoning).  \n",
    "- **Where to add:**  \n",
    "  After “various forms of AI that are more widely used…”  \n",
    "  → Add: “He explains that as language models increase in size and training data, new capabilities like translation, coding, and reasoning appear suddenly.”\n",
    "\n",
    "---\n",
    "\n",
    "### 7. Iterative Interaction Analogy\n",
    "- **What’s missing:**  \n",
    "  The “**intern analogy**”: treat the AI like an eager but inexperienced assistant.  \n",
    "- **Where to add:**  \n",
    "  After your definition of iterative interaction.  \n",
    "  → Add: “Korinek likens this process to working with a new intern—intelligent and eager but prone to errors—so patience and refinement are key.”\n",
    "\n",
    "---\n",
    "\n",
    "## ✅ Summary of Additions\n",
    "\n",
    "| Missing Detail | Where to Insert |\n",
    "|-----------------|----------------|\n",
    "| Examples of plugins (ADA, Wolfram, Claude) | After your sentence on plugins |\n",
    "| Ricardo’s comparative advantage framing | In comparative advantage paragraph |\n",
    "| Explanation of “micro-tasks” | After “automating micro-tasks” |\n",
    "| Warnings about over/underestimation | After limitations paragraph |\n",
    "| Prompt context and role framing | After definition of prompt engineering |\n",
    "| Scaling and emergent capabilities | After “various forms of AI that are widely used” |\n",
    "| “Intern” analogy for iterative interaction | After iterative interaction definition |\n"
   ]
  },
  {
   "cell_type": "markdown",
   "id": "b6e15d55-1922-4f38-85f2-332d1a808a33",
   "metadata": {},
   "source": [
    "## 2"
   ]
  },
  {
   "cell_type": "markdown",
   "id": "2cc8d5a9-fe38-425a-9f3f-a3f233069177",
   "metadata": {},
   "source": [
    "Prompt: can you tighten up this new version of my summary and give suggestions for changes to improve clarity and flow.\n",
    "\n",
    "Response:\n"
   ]
  }
 ],
 "metadata": {
  "kernelspec": {
   "display_name": "econark",
   "language": "python",
   "name": "econark"
  },
  "language_info": {
   "codemirror_mode": {
    "name": "ipython",
    "version": 3
   },
   "file_extension": ".py",
   "mimetype": "text/x-python",
   "name": "python",
   "nbconvert_exporter": "python",
   "pygments_lexer": "ipython3",
   "version": "3.11.10"
  }
 },
 "nbformat": 4,
 "nbformat_minor": 5
}
